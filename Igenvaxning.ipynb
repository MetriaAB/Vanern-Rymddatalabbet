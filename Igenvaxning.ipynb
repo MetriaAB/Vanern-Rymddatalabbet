{
 "cells": [
  {
   "cell_type": "markdown",
   "metadata": {},
   "source": [
    "# Identifiering av potientiellt igenvuxna stränder kring Vänern med satellitdata <br><br>![title](bilder/metria_logo.jpg)"
   ]
  },
  {
   "cell_type": "markdown",
   "metadata": {},
   "source": [
    "Verktyget demonstrerar metoder för att identifiera potentiellt igenvuxna<br> stränder kring Vänern med hjälp av Rymddatalabbet och <br>maskininlärningsalgoritmen \"Random Forest\".<br>https://en.wikipedia.org/wiki/Random_forest\n",
    "<br><br>Förvalda satellitbilder från Sentinel-2 används, med möjlighet för användaren<br>\n",
    "att anpassa anpassa parametrar i analysen. Framtida versioner av verktyget <br>kan förbättras genom att integrera äldre satellitdata från till exempel\n",
    "<br>Landsat eller SPOT när dessa finns tillgängliga i Rymddatalabbet.<br><br>Observera att separat login till Rymddatalabbet krävs för att använda verktyget som tänkt.<br><br>Verktyget är skrivet av [Metria AB](http://www.metria.se) på uppdrag av [Länsstyrelsen i Västra Götaland.](https://www.lansstyrelsen.se/vastra-gotaland.html)"
   ]
  },
  {
   "cell_type": "markdown",
   "metadata": {},
   "source": [
    "----"
   ]
  },
  {
   "cell_type": "markdown",
   "metadata": {},
   "source": [
    "<b>Vi börjar med att importera alla nödvändiga moduler:</b>"
   ]
  },
  {
   "cell_type": "code",
   "execution_count": null,
   "metadata": {},
   "outputs": [],
   "source": [
    "import datacube\n",
    "from utils.data_cube_utilities.dc_display_map import display_map\n",
    "import rasterio\n",
    "from rasterio.features import shapes\n",
    "import fiona\n",
    "import geopandas as gp\n",
    "import numpy\n",
    "import xarray\n",
    "from matplotlib import pyplot as plt\n",
    "from IPython.display import Markdown, display\n",
    "import ipywidgets\n",
    "from ipywidgets import Layout\n",
    "from utils.metria_utilities import metria_utils\n",
    "from sklearn.ensemble import RandomForestClassifier"
   ]
  },
  {
   "cell_type": "markdown",
   "metadata": {},
   "source": [
    "<br><b>Nedan väljer vi parametrar för vår analys:</b>\n",
    "\n",
    "* Random Forest-metoden bygger på att ett antal möjliga klassningar testas <br>för att hitta den bästa lösningen. <b>Antal träd</b> avgör mängden försök <br>till klassning som utförs. Fler träd medför längre bearbetningstider. <br>Som standard används 100 träd, men upp till 500 kan användas.<br><br>\n",
    "* För att kunna hitta igenvuxna ytor krävs referensdata som talar om för <br>Rymddatalabbet hur dessa ytor kan se ut. Ett referensdataset är <br>inkluderat i detta verktyg. <b>Viktning</b> bestämmer den relativa betydelse <br>som pixlar som redan identifierats som igenvuxna av Metria får i klassningen.<br>Som standard används vikten 10, men användaren kan anpassa<br> denna mellan 1-20.\n",
    "<br><br>\n",
    "* Analysen begränsas till enskilda <b>kommuner</b> för att garantera att tillräckligt <br>många referensytor finns tillgängliga när verktyget körs."
   ]
  },
  {
   "cell_type": "code",
   "execution_count": null,
   "metadata": {},
   "outputs": [],
   "source": [
    "kommuner = ['Grums','Grästorp','Gullspång','Götene','Hammarö',\n",
    "     'Karlstad','Kristinehamn','Lidköping','Mariestad',\n",
    "     'Mellerud','Säffle','Vänersborg','Åmål']\n",
    "\n",
    "kommunval = ipywidgets.RadioButtons(\n",
    "        options=kommuner,\n",
    "        value=None,\n",
    "        description='Kommun: ',\n",
    "        disabled=False,\n",
    "    )\n",
    "\n",
    "display(kommunval)\n",
    "\n",
    "trad = ipywidgets.IntSlider(\n",
    "    value=100,\n",
    "    min=100,\n",
    "    max=500,\n",
    "    step=1,\n",
    "    description='Antal träd:',\n",
    "    disabled=False,\n",
    "    continuous_update=False,\n",
    "    orientation='horizontal',\n",
    "    readout=True,\n",
    "    readout_format='d'\n",
    ")\n",
    "\n",
    "display(trad)\n",
    "\n",
    "vikt = ipywidgets.IntSlider(\n",
    "    value=10,\n",
    "    min=1,\n",
    "    max=20,\n",
    "    step=1,\n",
    "    description='Viktning:',\n",
    "    disabled=False,\n",
    "    continuous_update=False,\n",
    "    orientation='horizontal',\n",
    "    readout=True,\n",
    "    readout_format='d'\n",
    ")\n",
    "\n",
    "display(vikt)\n"
   ]
  },
  {
   "cell_type": "markdown",
   "metadata": {},
   "source": [
    "<b>När cellen nedan körs sparas våra val och aktuell avgränsning visas på karta:</b>"
   ]
  },
  {
   "cell_type": "code",
   "execution_count": null,
   "metadata": {},
   "outputs": [],
   "source": [
    "kommun = kommunval.value\n",
    "\n",
    "analysyta = {}\n",
    "with fiona.open('filer/strandlinje_per_kommun.gpkg', 'r', encoding='utf-8') as strandlinje_per_kommun:\n",
    "    for k in strandlinje_per_kommun:\n",
    "        if kommun in k['properties']['KOMMUNNAMN'].capitalize():\n",
    "            bounds = fiona.bounds(k)\n",
    "            bounds = tuple(map(lambda x: isinstance(x, float) and round(x, -1) or x, bounds))\n",
    "\n",
    "            min_x = bounds[0]-1000\n",
    "            min_y = bounds[1]-1000\n",
    "            max_x = bounds[2]+1000\n",
    "            max_y = bounds[3]+1000\n",
    "\n",
    "            bounds = (min_x, min_y, max_x, max_y)\n",
    "\n",
    "            analysyta[k['properties']['KOMMUNNAMN'].capitalize()] = bounds\n",
    "\n",
    "            min_ll = metria_utils.omvandla(3006, 4236, bounds[0], bounds[1])[0:2]\n",
    "            max_ll = metria_utils.omvandla(3006, 4236, bounds[2], bounds[3])[0:2]\n",
    "\n",
    "            long = (min_ll[0], max_ll[0])\n",
    "            lat = (min_ll[1], max_ll[1])\n",
    "            \n",
    "res = (-10, 10)\n",
    "\n",
    "opt = {'utan_s':' kommun', 'med_s':'s kommun'}\n",
    "if kommun.endswith('s') or kommun.endswith('e') or kommun.endswith('ö'):\n",
    "    kommunstr = kommun+opt['utan_s']\n",
    "else:\n",
    "    kommunstr = kommun+opt['med_s']\n",
    "\n",
    "print('\\nSammanfattning av val:\\n')\n",
    "print(f'Analysområde: {kommunstr}\\nAntal träd: {str(trad.value)}\\nViktning: {vikt.value}\\n')\n",
    "\n",
    "display_map(latitude = lat, longitude = long)"
   ]
  },
  {
   "cell_type": "markdown",
   "metadata": {},
   "source": [
    "<br><b>Vi importerar referensdata för aktuell kommun och visualiserar på skärm.</b><br><br>Referensdata är baserat på två källor:<br>\n",
    "1. Modifierade marktäckeklasser från Nationella Marktäckedata ([NMD](https://www.naturvardsverket.se/Sa-mar-miljon/Kartor/Nationella-Marktackedata-NMD/))\n",
    "2. Igenväxande ytor karterade av Metria."
   ]
  },
  {
   "cell_type": "code",
   "execution_count": null,
   "metadata": {},
   "outputs": [],
   "source": [
    "ref_data, profile = metria_utils.raster_subset('filer/referensdata_vanern.tif', bounds, res)\n",
    "\n",
    "klasser = {1:'Igenvuxen yta',\n",
    "         2: 'Öppen våtmark',\n",
    "         3: 'Åkermark',\n",
    "         41: 'Bar öppen mark',\n",
    "         42: 'Vegeterad öppen mark',\n",
    "         50: 'Bebyggelse',\n",
    "         60: 'Vatten',\n",
    "         100: 'Barrskog',\n",
    "         101: 'Lövskog',\n",
    "         118: 'Hygge'}\n",
    "\n",
    "n_provpunkter = (ref_data > 0).sum()\n",
    "print(f'\\nVi har totalt {n_provpunkter} provpunkter.')\n",
    "\n",
    "labels = numpy.unique(ref_data[ref_data > 0])\n",
    "print(f'\\nTräningsdatasetet innehåller följande {labels.size} klasser:\\n')\n",
    "print('{' + \"\\n\".join(\"{!r}: {!r},\".format(k, v) for k, v in klasser.items()) + '}\\n')\n",
    "plt.imshow(ref_data, cmap='plasma')"
   ]
  },
  {
   "cell_type": "markdown",
   "metadata": {},
   "source": [
    "<br><b>När cellen nedan körs hämtas satellitdata för aktuell kommun från Rymddatalabbet.</b><br><br>\n",
    "Datumen som används är i detta verktyg förvalda för att garantera molnfira satellitbilder:\n",
    "\n",
    "* 2018-05-30\n",
    "* 2018-06-29\n",
    "* 2018-07-14"
   ]
  },
  {
   "cell_type": "code",
   "execution_count": null,
   "metadata": {},
   "outputs": [],
   "source": [
    "satindex = {'s2b_maj':'2018-05-30', 's2b_jun':'2018-06-29', 's2a_jul':'2018-07-14'}\n",
    "\n",
    "bandlista = ['B02_10m', 'B03_10m','B04_10m', \n",
    "             'B05_20m', 'B06_20m', 'B07_20m', \n",
    "             'B08_10m', 'B8A_20m', 'B11_20m', 'B12_20m']\n",
    "\n",
    "dc = datacube.Datacube()\n",
    "\n",
    "print('Letar efter tillgängliga satellitbilder.')\n",
    "\n",
    "datasets = []\n",
    "for satellit, datum in satindex.items():\n",
    "    if 's2a' in satellit:\n",
    "        prod = 's2a_sen2cor_granule'\n",
    "    elif 's2b' in satellit:\n",
    "        prod = 's2b_sen2cor_granule'\n",
    "\n",
    "    kriterier = {\n",
    "            'x': (bounds[0], bounds[2]),\n",
    "            'y': (bounds[1], bounds[3]),\n",
    "            'crs': 'EPSG:3006',\n",
    "        \n",
    "            'output_crs': 'EPSG:3006',\n",
    "            'resolution': (-10, 10),\n",
    "            'time': (datum)\n",
    "                }\n",
    "    try:\n",
    "        dataset = dc.load(product=prod,\n",
    "                          group_by='solar_day',\n",
    "                          **kriterier)        \n",
    "        datasets.append(dataset)\n",
    "    except ValueError:\n",
    "        pass    \n",
    "\n",
    "try:\n",
    "    satellitdata = xarray.concat(datasets, dim='time').sortby('time')\n",
    "    band = satellitdata[bandlista]    \n",
    "except Exception:\n",
    "    band = dataset[bandlista]\n",
    "\n",
    "final_array = []\n",
    "for b in bandlista:\n",
    "    for array in band[b]:\n",
    "        final_array.append(array.values)\n",
    "stack = numpy.asarray(final_array)\n",
    "stack = numpy.moveaxis(stack, 0, 2)\n",
    "        \n",
    "print(f'\\nAnvänder {len(band.time)} bildtillfällen för analysen:\\n')\n",
    "\n",
    "rgbset = satellitdata[[\"B04_20m\", \"B03_20m\", \"B02_20m\"]]\n",
    "rgbset.to_array().plot.imshow(col = \"time\", col_wrap = 3, robust = True)"
   ]
  },
  {
   "cell_type": "markdown",
   "metadata": {},
   "source": [
    "<br><b>Nedan testas våra satellitdata mot våra referensdata för att skapa en klassningsmodell (detta kan ta ett tag)</b><br><br>\n",
    "Verktyget jämför klasserna i referensdata med information från satellitbilderna i Rymddatalabbet för att identifiera <br>ytor som liknar referensdata, däribland igenväxande ytor.<br>\n",
    "\n",
    "När detta steg är färdigt presenteras en uppskattad klassningsnoggrannhet samt en lista som indikerar hur viktiga enskilda<br> band är för att genomföra klassificeringen:"
   ]
  },
  {
   "cell_type": "code",
   "execution_count": null,
   "metadata": {},
   "outputs": [],
   "source": [
    "sat_filter = stack[ref_data > 0]\n",
    "ref_filter = ref_data[ref_data > 0]\n",
    "\n",
    "l = 1\n",
    "\n",
    "random_forest = RandomForestClassifier(n_estimators=trad.value, oob_score=True, class_weight={\n",
    "        1: vikt.value, 2:l, 3:l, 41:l, 42:l, 50:l, 60:l, 100:l, 101:l, 118:l})\n",
    "rf = random_forest.fit(sat_filter, ref_filter)\n",
    "\n",
    "print(f'Vår uppskattade klassningsnoggrannhet är: {rf.oob_score_ * 100}\\n')\n",
    "bands = list(range(1, stack.shape[2]+1))\n",
    "\n",
    "for b, imp in zip(bands, rf.feature_importances_):\n",
    "    print(f'Relativ betydelse band {b}: {imp}')"
   ]
  },
  {
   "cell_type": "markdown",
   "metadata": {},
   "source": [
    "<br><b>När klassningsmodellen är färdig använder vi den för att generera ett resultat</b><br><br>\n",
    "Analysen genererar först en rasterfil som består av alla pixlar som klassificerats som igenvuxen yta. Dessa konverteras till vektor-polygoner, <br>och sedan tas centroid-punkten ut från alla polygoner. Det resulterande punkt-skiktet visas på skärm och kan sparas som graf, eller en shapefil i nästa steg. <br>Punkterna ger en indikation på var verktyget tror sig ha hittat en igenväxande yta:"
   ]
  },
  {
   "cell_type": "code",
   "execution_count": null,
   "metadata": {},
   "outputs": [],
   "source": [
    "template = (stack.shape[0] * stack.shape[1], stack.shape[2])\n",
    "ny_stack = stack[:].reshape(template)\n",
    "klassning = rf.predict(ny_stack)\n",
    "klassning = klassning.reshape(stack[:, :, 0].shape)\n",
    "resultat = numpy.copy(klassning)\n",
    "\n",
    "strand, profile = metria_utils.raster_subset('filer/vanern_strandzon_200m.tif', bounds, res)\n",
    "\n",
    "resultat[resultat > 1] = 0\n",
    "resultat[strand == 0] = 0\n",
    "\n",
    "pg = (\n",
    "    {'properties': {'raster_val': v}, 'geometry': s}\n",
    "    for i, (s, v) \n",
    "    in enumerate(\n",
    "        shapes(resultat, mask=None, transform=profile['transform'])))\n",
    "\n",
    "geoms = list(pg)\n",
    "geoms = [x for x in geoms if not x['properties']['raster_val'] == 0]\n",
    "\n",
    "polygoner  = gp.GeoDataFrame.from_features(geoms)\n",
    "centroider = polygoner['geometry'].centroid\n",
    "\n",
    "print(f'\\nHittade totalt {len(centroider)} punkter med potentiell igenväxning i {kommunstr}.\\n')\n",
    "\n",
    "strand = gp.read_file('filer/strandlinje_per_kommun.gpkg')\n",
    "\n",
    "base = strand.plot(edgecolor='black', figsize=(12, 12))\n",
    "centroider.plot(ax=base, color='red')\n",
    "base.set_title(f\"Potentiellt igenvuxna områden i {kommunstr}\\n\", fontsize=20)\n",
    "base.set_xlim(bounds[0], bounds[2])\n",
    "base.set_ylim(bounds[1], bounds[3])\n",
    "\n",
    "knapp = ipywidgets.Button(\n",
    "    description='Klicka här för att spara grafen nedan som en bild',\n",
    "    layout=Layout(width='40%'),\n",
    "    button_style='',\n",
    "    tooltip='Klicka här för att spara grafen nedan som en bild',\n",
    "    icon='check')\n",
    "out = ipywidgets.Output()\n",
    "\n",
    "def knapp_click(_):\n",
    "      with out:\n",
    "            base = strand.plot(edgecolor='black', figsize=(12, 12))\n",
    "            centroider.plot(ax=base, color='red')\n",
    "            base.set_title(f'Potentiellt igenvuxna områden i {kommunstr}\\n', fontsize=20)\n",
    "            base.set_xlim(bounds[0], bounds[2])\n",
    "            base.set_ylim(bounds[1], bounds[3])\n",
    "            plt.savefig(f'resultat/Potentiellt igenvuxna områden i {kommunstr}.png'.replace(' ', '_'))\n",
    "            print('Din fil är sparad under \"resultat/\"')\n",
    "\n",
    "knapp.on_click(knapp_click)\n",
    "ipywidgets.VBox([knapp,out])"
   ]
  },
  {
   "cell_type": "markdown",
   "metadata": {},
   "source": [
    "<br><b>Om vi är nöjda med analysen kan vi spara resultatet som en shapefil för att använda i ett GIS (hamnar i foldern \"resultat\" till vänster):</b>"
   ]
  },
  {
   "cell_type": "code",
   "execution_count": null,
   "metadata": {},
   "outputs": [],
   "source": [
    "filnamn = ipywidgets.Text(\n",
    "    value=f'Potentiell_igenväxning_i_{kommunstr}.shp'.replace(' ', '_'),\n",
    "    layout=Layout(width='70%'),\n",
    "    description='Filnamn: ',\n",
    "    disabled=False\n",
    ")\n",
    "\n",
    "display(filnamn)\n",
    "print('\\n')\n",
    "\n",
    "knapp = ipywidgets.Button(\n",
    "    description='Klicka här för att spara resultatet som en shapefil',\n",
    "    layout=Layout(width='40%'),\n",
    "    button_style='',\n",
    "    tooltip='Klicka här för att spara resultatet som en shapefil',\n",
    "    icon='check')\n",
    "out = ipywidgets.Output()\n",
    "\n",
    "def knapp_click(_):\n",
    "      with out:\n",
    "            centroider.to_file(f'resultat/{filnamn.value}')\n",
    "            print('Din fil är sparad under \"resultat/\"')\n",
    "\n",
    "knapp.on_click(knapp_click)\n",
    "ipywidgets.VBox([knapp,out])"
   ]
  }
 ],
 "metadata": {
  "kernelspec": {
   "display_name": "Python 3",
   "language": "python",
   "name": "python3"
  },
  "language_info": {
   "codemirror_mode": {
    "name": "ipython",
    "version": 3
   },
   "file_extension": ".py",
   "mimetype": "text/x-python",
   "name": "python",
   "nbconvert_exporter": "python",
   "pygments_lexer": "ipython3",
   "version": "3.6.7"
  }
 },
 "nbformat": 4,
 "nbformat_minor": 4
}
