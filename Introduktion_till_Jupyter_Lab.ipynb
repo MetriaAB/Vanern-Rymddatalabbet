{
 "cells": [
  {
   "cell_type": "markdown",
   "metadata": {},
   "source": [
    "# Introduktion till användargränssnitt i Jupyter Lab <br><br>![title](bilder/metria_logo.jpg)<br><br>\n",
    "Nedan beskrivs de steg du måste behärska för att kunna köra de verktyg som Metria har skapat."
   ]
  },
  {
   "cell_type": "markdown",
   "metadata": {},
   "source": [
    "<b>1. Grundläggande funktionalitet i en Notebook:</b><br><br>\n",
    "Jupyter Lab är en interaktiv plattform där användare kan skapa s.k. <b>Notebooks</b> som <br>blandar programkod och andra element för att utföra och visualisera olika moment. <br>I detta sammanhang används Jupyter Lab för att interagera med Rymddatalabbet. <br>Det gränssnitt som du använder just nu är en Notebook. Den är uppbyggd på celler<br> som kan innehålla programkod, text, bilder etc.<br><br>\n",
    "Om ett blått streck ritas bredvid cellen betyder detta att den är markerad och därför <b>aktiv</b>.<br>\n",
    "I menyn ovan indikeras vilken typ den cell som är markerad är, i detta fall \"Markdown\", <br>\n",
    "Vilket innebär att cellen kan fyllas med innehåll som inte är programkod, t ex text eller bilder.\n",
    "<br><br>\n",
    "![title](bilder/Bild1.jpg)\n",
    "<br><br>\n",
    "Markera nästa cell nedan, antingen med vänster musknapp, eller med ned-tangenten på ditt skrivbord.<br>\n",
    "Notera att symbolen [   ] visas till vänster om cellen. I menyn ovan står att cell-typen är \"Code\"<br>\n",
    "vilket innebär att cellen innehåller programkod som utförs när den aktivt körs av användaren.<br>\n",
    "Kör cellen, antingen genom att klicka \"Ctrl+Enter\" på tangentbord, eller genom att klicka på Play i menyn ovan.\n",
    "<br><br>\n",
    "![title](bilder/Bild2.jpg)\n",
    "<br>"
   ]
  },
  {
   "cell_type": "code",
   "execution_count": null,
   "metadata": {},
   "outputs": [],
   "source": [
    "print('Hej Världen!')"
   ]
  },
  {
   "cell_type": "markdown",
   "metadata": {},
   "source": [
    "<br>Notera att symbolen [  ] fylldes med en siffra, och att programkodens resultat (i detta fall i språket Python)<br> skrevs ut under cellen. Siffran indikerar i vilken relativ ordning cellens körts. <br>I en Notebook med flera celler blir detta ett praktiskt sätt att hålla reda på när vad har gjorts.\n",
    "<br><br>\n",
    "I de Notebooks som Metria har skapat skall det i vanliga fall räcka för användaren att trycka på <br>\"Play\" sekventiellt för att utföra alla analyser som finns definerade, med undantag för steg där <br>aktiva val av t ex parametrar måste defineras.\n",
    "<br><br>\n",
    "Kör cellen nedan för ett exempel på en interaktiv komponent där du måste göra ett aktivt val innan du fortsätter:<br>"
   ]
  },
  {
   "cell_type": "code",
   "execution_count": null,
   "metadata": {},
   "outputs": [],
   "source": [
    "import ipywidgets\n",
    "from ipywidgets import Layout\n",
    "\n",
    "print('\\n')\n",
    "svar = ['Ja', 'Nej']\n",
    "\n",
    "check = ipywidgets.Select(\n",
    "    options=svar,\n",
    "    value=None,\n",
    "    rows=3,\n",
    "    description='Hänger du med så länge?:', style=dict(description_width='initial'),\n",
    "    disabled=False,\n",
    "    layout=Layout(width='400px')\n",
    ")\n",
    "\n",
    "display(check)"
   ]
  },
  {
   "cell_type": "markdown",
   "metadata": {},
   "source": [
    "<br>När du gjort ditt val, kör cellen nedan:"
   ]
  },
  {
   "cell_type": "code",
   "execution_count": null,
   "metadata": {},
   "outputs": [],
   "source": [
    "print(f'Du har svarat: {check.value.lower()}')"
   ]
  },
  {
   "cell_type": "markdown",
   "metadata": {},
   "source": [
    "<br>Om du backar och ändrar ditt svar, och sedan kör cellen igen bör du märka att resultatet av koden blir annorlunda. <br><br>Om du <b>inte</b> gör ett val uppstår ett programfel som visas med en röd ruta:<br>![title](bilder/Bild5.jpg)<br><br>Detta löser du i detta fall genom att gå tillbaka, göra ett val och sedan köra cellen med kod igen.<br>Om du kör verktygen och får en röd ruta står en beskrivning av aktuellt fel ofta längst ned."
   ]
  },
  {
   "cell_type": "markdown",
   "metadata": {},
   "source": [
    "<br><b>2. Filhantering i Jupyter Lab</b><br><br>\n",
    "Som användare har du möjlighet att ladda upp och ladda ned filer som t ex kan användas i programkod i en Notebook.<br>\n",
    "Du ser filhanteraren till vänster i ditt fönster:<br>\n",
    "<br>![title](bilder/Bild3.jpg)\n",
    "<br><br>De orangea ikoner du ser i bilden är de Notebooks som finns i miljön. En grön prick bredvid ikonen indikerar att aktuell Notebook är aktiv.<br>\n",
    "* För att öppna en Notebook kan du antingen dubbelklicka på iknonen, eller högerklicka och välja \"Open\".<br><br>\n",
    "* För att stänga en Notebook du är färdig med bör du högerklicka på ikonen och välja \"Shut down kernel\".<br>Detta frigör de hårdvaruresurser som din Notebook använder.<br><br>\n",
    "* Varje fil, som bilder och Notebooks som finns i din miljö kan laddas ned till din lokala dator<br>genom att högerklicka och välja \"Download\".<br><br>\n",
    "* Du kan ladda upp filer genom att klicka på \"Upload files\":<br>![title](bilder/Bild4.jpg)<br><br>\n",
    "* Din valda fil laddas upp till den folder du har öppen i Jupyters filhanterare vid tillfället.<br>Notera att du har en begränsad storlek på lagringen i Rymddatalabbet och bör därför<br>inte ladda upp stora mändger data.<br><br>\n",
    "* I verktygen som Metria skapat kan du välja att spara resultat som filer för att använda i ett GIS.<br>Dessa sparas i foldern \"resultat\" och kan laddas ned därifrån."
   ]
  },
  {
   "cell_type": "markdown",
   "metadata": {},
   "source": [
    "<br><br><b>3. Starta, starta om, stoppa och stänga ned en Notebook</b><br><br>\n",
    "* Du <b>startar</b> som sagt en Notebook genom att använda filhanteraren till vänster.<br>\n",
    "Notera att din Notebook sparar allt du gör automatiskt. Det är därför bra att ta en kopia <br>på originalet så att detta finns sparat separat. Du kopierar en Notebook genom att <br>högerklicka på den i filhanteraren och klicka \"Copy\". En kopia skapas då automatiskt.<br>En Notebook som inte stängts ned av användaren fortsätter köra oavsett<br>om du stänger ned webbläsaren.<br><br>\n",
    "* För att <b>stänga</b> en Notebook högerklickar du som sagt på den i filhanteraren och <br>väljer <b>Shut Down Kernel</b>. Gör det till en vana att stänga ned en oanvänd Notebook.<br><br>\n",
    "* Om du stöter på problem när du kör en Notebook, t ex att du gör ett misstag som gör<br>att en analys tar för lång tid eller görs med fel variabler och du vill inte vänta på att<br>resultatet blir färdigt kan du trycka på <b>\"Interrupt the Kernel\"</b> (Stopp-knappen), eller <br><b>\"Restart the Kernel\"</b> (Pil-knappen).<br>\n",
    "<br>![title](bilder/Bild6.jpg)<br><br>\n",
    "* Skillnaden mellan \"Interrupt\" och \"Restart\" är att om Interrupt används så är andra <br>steg som utförts tidigare i din Notebook fortfarande aktiva, medans \"Restart\" återställer<br>alla värden och du måste börja om från början."
   ]
  },
  {
   "cell_type": "markdown",
   "metadata": {},
   "source": [
    "<br><br><b>4. Klona en miljö från GitHub</b><br><br>"
   ]
  },
  {
   "cell_type": "markdown",
   "metadata": {},
   "source": [
    "Om du börjar med ett nytt konto i Rymddatalabbet och vill ha tillgång till verktygen som Metria har utvecklat<br>följer du följande steg:\n",
    "\n",
    "* Klicka på plustecknet ovanför din filhanterare till vänster:<br>\n",
    "<br>![title](bilder/Bild7.jpg)<br><br>\n",
    "* Välj att öpnna en ny <b>Terminal</b><br>\n",
    "<br>![title](bilder/Bild8.jpg)<br><br>\n",
    "* En ny flik med en kommandotolk bör dyka upp.<br><br>\n",
    "* Skriv följande kommando, följt av Enter:\n",
    "  <br><br>         <b>git clone https://github.com/MetriaAB/Vanern-Rymddatalabbet.git</b>\n",
    "<br><br>\n",
    "* Om allt gjorts korrekt bör alla vertyg och filer som behövs laddas in <br>under foldern \"Vanern-Rymddatalabbet\" i din miljö."
   ]
  }
 ],
 "metadata": {
  "kernelspec": {
   "display_name": "Python 3",
   "language": "python",
   "name": "python3"
  },
  "language_info": {
   "codemirror_mode": {
    "name": "ipython",
    "version": 3
   },
   "file_extension": ".py",
   "mimetype": "text/x-python",
   "name": "python",
   "nbconvert_exporter": "python",
   "pygments_lexer": "ipython3",
   "version": "3.6.7"
  }
 },
 "nbformat": 4,
 "nbformat_minor": 4
}
