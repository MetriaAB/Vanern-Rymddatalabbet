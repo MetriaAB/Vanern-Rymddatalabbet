{
 "cells": [
  {
   "cell_type": "markdown",
   "metadata": {},
   "source": [
    "# Kartering av vattenvegetation i Vänern med satellitdata <br><br>![title](bilder/metria_logo.jpg)"
   ]
  },
  {
   "cell_type": "markdown",
   "metadata": {},
   "source": [
    "Verktygen demonstrerar metoder för att extrahera potentiell vattenvegetation<br> ur en tidsserie med satellitbilder från Sentinel-2 med hjälp av Rymddatalabbet.<br> Resultat kan jämföras mot historisk utbredning av vattenvegetation i Vänern<br>som har karterats av Metria med satellitbilder från Landsat och SPOT.<br><br>Observera att separat login till Rymddatalabbet krävs för att använda verktyget som tänkt.<br><br>Verktygen är skrivna av [Metria AB](http://www.metria.se) på uppdrag av [Länsstyrelsen i Västra Götaland.](https://www.lansstyrelsen.se/vastra-gotaland.html)"
   ]
  },
  {
   "cell_type": "markdown",
   "metadata": {},
   "source": [
    "----"
   ]
  },
  {
   "cell_type": "markdown",
   "metadata": {},
   "source": [
    "<b>Vi börjar med att importera alla nödvändiga moduler:</b>"
   ]
  },
  {
   "cell_type": "code",
   "execution_count": 1,
   "metadata": {},
   "outputs": [],
   "source": [
    "import datacube\n",
    "from datacube.storage.masking import mask_invalid_data\n",
    "from utils.data_cube_utilities.dc_display_map import display_map\n",
    "import rasterio\n",
    "import fiona\n",
    "from osgeo import osr\n",
    "import numpy\n",
    "import xarray\n",
    "import matplotlib\n",
    "from matplotlib import pyplot as plt\n",
    "from IPython.display import Markdown, display\n",
    "import ipywidgets\n",
    "from ipywidgets import Layout\n",
    "from utils.metria_utilities import metria_utils"
   ]
  },
  {
   "cell_type": "markdown",
   "metadata": {},
   "source": [
    "<br><b>Nedan väljer vi parametrar för vår analys:</b><br>\n",
    "* <b>Analystyp</b> avgör vilket verktyg som utförs. I samtliga fall används [Normalized Difference Vegetation Index (NDVI)](https://en.wikipedia.org/wiki/Normalized_difference_vegetation_index) <br>för att hitta utbredningen av vattenvegetation.\n",
    "Användaren kan plocka ut den sammantaget maximala utbredningen<br>under en tidsperiod, eller plocka ut maximal utbredning per månad inom ett tidsspann (Obs: endast inom ett kalenderår).<br>Användaren kan också jämföra den maximala utbredningen mot historiska utbredningar. <br>Endast en analystyp åt gången kan genomföras.<br><br>\n",
    "* Under <b>Område</b> kan användaren antingen välja en kommun kring Vänern eller ladda upp en egen vektorfil<br>till Rymddatalabbet med en avgränsande polygon. Notera att endast en polygon får finnas i en fil med <br>en egendefinerad avgränsning samt att denna måste nudda Vänern för att fungera. Om en egen<br>avgränsning används måste sökväg/filnamn skrivas in under <b>Filnamn</b>, till exempel:  <i>filer/yta.shp</i><br><br>\n",
    "* <b>Startdatum</b> samt <b>Slutdatum</b> används för att skapa ett spann av datum från vilket satellitbilder skall hämtas.<br><i>Notera att ett längre spann innebär längre bearbetningstider.</i> I Rymddatalabbet finns Sentinel-2 mellan 2018 och 2019.<br>I resultatet visas de faktiska datum mellan vilka satellitbilder finns tillgängliga inom spannet.<br><br>\n",
    "* Användaren kan välja att <b>begränsa till </b>enskilda månader för analysen. Generellt är vattenvegetationen<br>synlig i satellidata mellan maj och september.<br><br>\n",
    "* <b>Upplösning</b> avgör vilken version av Sentinel-2 data som används, dvs 10 eller 20 meters pixelstorlek. <br>Verktygen är tänkta att använda 10 meters upplösning, men då ett fullständigt arkiv med 10 meters upplösning <br>inte fanns tillgängligt i Rymddatalabbet när Metria skrev verktygen ges användaren möjlighet att byta mellan <br>olika dataset. Notera att upplösningen på resultat som sparas är alltid 10 meter oavsett källa.<br><br>"
   ]
  },
  {
   "cell_type": "code",
   "execution_count": 2,
   "metadata": {},
   "outputs": [
    {
     "data": {
      "application/vnd.jupyter.widget-view+json": {
       "model_id": "77b0a49ae30149cd9a37fba371391ee9",
       "version_major": 2,
       "version_minor": 0
      },
      "text/plain": [
       "Select(description='Analystyp:', layout=Layout(width='50%'), options=('Maximal utbredning av vattenvegetation …"
      ]
     },
     "metadata": {},
     "output_type": "display_data"
    },
    {
     "data": {
      "application/vnd.jupyter.widget-view+json": {
       "model_id": "917824a25b2a45bfa0cd47b040448fa7",
       "version_major": 2,
       "version_minor": 0
      },
      "text/plain": [
       "RadioButtons(description='Område: ', options=('Grums', 'Grästorp', 'Gullspång', 'Götene', 'Hammarö', 'Karlstad…"
      ]
     },
     "metadata": {},
     "output_type": "display_data"
    },
    {
     "data": {
      "application/vnd.jupyter.widget-view+json": {
       "model_id": "cb2bb0467f6841fd8aa2bc6ba5718a33",
       "version_major": 2,
       "version_minor": 0
      },
      "text/plain": [
       "Text(value='Om \"Egen polygon\" är vald, skriv in folder och namn på filen du vill använda för avgränsning', des…"
      ]
     },
     "metadata": {},
     "output_type": "display_data"
    },
    {
     "data": {
      "application/vnd.jupyter.widget-view+json": {
       "model_id": "4f5a8f3e53b34aec94e348594c660ce4",
       "version_major": 2,
       "version_minor": 0
      },
      "text/plain": [
       "DatePicker(value=None, description='Startdatum:')"
      ]
     },
     "metadata": {},
     "output_type": "display_data"
    },
    {
     "data": {
      "application/vnd.jupyter.widget-view+json": {
       "model_id": "760178c12d794e4b99d6071ae6a8fce1",
       "version_major": 2,
       "version_minor": 0
      },
      "text/plain": [
       "DatePicker(value=None, description='Slutdatum:')"
      ]
     },
     "metadata": {},
     "output_type": "display_data"
    },
    {
     "data": {
      "application/vnd.jupyter.widget-view+json": {
       "model_id": "b46c34bfa9e54a1fbe00edff6bbbec4d",
       "version_major": 2,
       "version_minor": 0
      },
      "text/plain": [
       "SelectMultiple(description='Begränsa till: ', options=('Januari', 'Februari', 'Mars', 'April', 'Maj', 'Juni', …"
      ]
     },
     "metadata": {},
     "output_type": "display_data"
    },
    {
     "data": {
      "application/vnd.jupyter.widget-view+json": {
       "model_id": "cad14db82d4842dab2bb7f48bf33e5b3",
       "version_major": 2,
       "version_minor": 0
      },
      "text/plain": [
       "RadioButtons(description='Upplösning: ', index=1, options=('10 meter', '20 meter'), value='20 meter')"
      ]
     },
     "metadata": {},
     "output_type": "display_data"
    }
   ],
   "source": [
    "metoder = ['Maximal utbredning av vattenvegetation under vald period', 'Maximal utbredning per månad under vald period',\n",
    "             'Jämförelse av maximal utbredning mot 1988-2002', 'Jämförelse av maximal utbredning mot 2005-2013']\n",
    "\n",
    "analysval = ipywidgets.Select(\n",
    "    options=metoder,\n",
    "    value=metoder[0],\n",
    "    rows=4,\n",
    "    description='Analystyp:',\n",
    "    disabled=False,\n",
    "    layout=Layout(width='50%')\n",
    ")\n",
    "\n",
    "display(analysval)\n",
    "\n",
    "kommuner = ['Grums','Grästorp','Gullspång','Götene','Hammarö',\n",
    "     'Karlstad','Kristinehamn','Lidköping','Mariestad',\n",
    "     'Mellerud','Säffle','Vänersborg','Åmål','Egen polygon']\n",
    "\n",
    "kommunval = ipywidgets.RadioButtons(\n",
    "        options=kommuner,\n",
    "        value=None,\n",
    "        description='Område: ',\n",
    "        disabled=False,\n",
    "    )\n",
    "\n",
    "display(kommunval)\n",
    "\n",
    "avgransning = ipywidgets.Text(\n",
    "    value='Om \"Egen polygon\" är vald, skriv in folder och namn på filen du vill använda för avgränsning',\n",
    "    layout=Layout(width='40%'),\n",
    "    description='Filnamn: ',\n",
    "    disabled=False\n",
    ")\n",
    "\n",
    "display(avgransning)\n",
    "\n",
    "startdatum = ipywidgets.DatePicker(\n",
    "    description='Startdatum:',\n",
    "    disabled=False\n",
    ")\n",
    "\n",
    "display(startdatum)\n",
    "\n",
    "slutdatum = ipywidgets.DatePicker(\n",
    "    description='Slutdatum:',\n",
    "    disabled=False\n",
    ")\n",
    "\n",
    "display(slutdatum)\n",
    "\n",
    "\n",
    "manader = ipywidgets.SelectMultiple(\n",
    "    options=['Januari', 'Februari', 'Mars', 'April',\n",
    "            'Maj', 'Juni', 'Juli', 'Augusti', 'September',\n",
    "            'Oktober', 'November', 'December'],\n",
    "\n",
    "    rows=13,\n",
    "    description='Begränsa till: ',\n",
    "    disabled=False\n",
    ")\n",
    "\n",
    "display(manader)\n",
    "\n",
    "ps = ['10 meter', '20 meter']\n",
    "pixel_size =  ipywidgets.RadioButtons(\n",
    "        options=ps,\n",
    "        value='20 meter',\n",
    "        description='Upplösning: ',\n",
    "        disabled=False,\n",
    "    )\n",
    "\n",
    "display(pixel_size)"
   ]
  },
  {
   "cell_type": "markdown",
   "metadata": {},
   "source": [
    "<br><b>När cellen nedan körs sparas våra val och visas på skärm:</b>"
   ]
  },
  {
   "cell_type": "code",
   "execution_count": 3,
   "metadata": {},
   "outputs": [
    {
     "name": "stdout",
     "output_type": "stream",
     "text": [
      "\n",
      "Sammanfattning av val:\n",
      "\n",
      "Typ av analys: Maximal utbredning per månad under vald period\n",
      "Analysområde: Hammarö kommun\n",
      "Period: 2019-08-18 till 2019-10-24\n",
      "Månader: Juli, Augusti, September\n",
      "Upplösning: 20 meter\n",
      "\n"
     ]
    },
    {
     "data": {
      "text/html": [
       "<div style=\"width:100%;\"><div style=\"position:relative;width:100%;height:0;padding-bottom:60%;\"><iframe src=\"data:text/html;charset=utf-8;base64,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\" style=\"position:absolute;width:100%;height:100%;left:0;top:0;border:none !important;\" allowfullscreen webkitallowfullscreen mozallowfullscreen></iframe></div></div>"
      ],
      "text/plain": [
       "<folium.folium.Map at 0x7f260477b860>"
      ]
     },
     "execution_count": 3,
     "metadata": {},
     "output_type": "execute_result"
    }
   ],
   "source": [
    "if startdatum.value > slutdatum.value:\n",
    "    raise SystemExit('Startdatum för analysen är senare än slutdatum. Ändra i menyerna ovan.')\n",
    "    \n",
    "elif (startdatum.value.year != slutdatum.value.year) and analysval.value == metoder[1]:\n",
    "    raise SystemExit('Verktyget för månadsvis kartering stöder i nuvarande form endast analyser inom ett kalanderår.')\n",
    "\n",
    "kommun = kommunval.value\n",
    "\n",
    "analysyta = {}\n",
    "\n",
    "if not kommun == 'Egen polygon':\n",
    "    with fiona.open('filer/strandlinje_per_kommun.gpkg', 'r', encoding='utf-8') as strandlinje_per_kommun:\n",
    "        for k in strandlinje_per_kommun:\n",
    "            if kommun in k['properties']['KOMMUNNAMN'].capitalize():\n",
    "                bounds = fiona.bounds(k)\n",
    "                bounds = tuple(map(lambda x: isinstance(x, float) and round(x, -1) or x, bounds))\n",
    "\n",
    "                min_x = bounds[0]-1000\n",
    "                min_y = bounds[1]-1000\n",
    "                max_x = bounds[2]+1000\n",
    "                max_y = bounds[3]+1000\n",
    "\n",
    "                bounds = (min_x, min_y, max_x, max_y)\n",
    "\n",
    "                analysyta[k['properties']['KOMMUNNAMN'].capitalize()] = bounds\n",
    "\n",
    "                min_ll = metria_utils.omvandla(3006, 4236, bounds[0], bounds[1])[0:2]\n",
    "                max_ll = metria_utils.omvandla(3006, 4236, bounds[2], bounds[3])[0:2]\n",
    "\n",
    "                long = (min_ll[0], max_ll[0])\n",
    "                lat = (min_ll[1], max_ll[1])\n",
    "    \n",
    "    opt = {'utan_s':' kommun', 'med_s':'s kommun'}\n",
    "    if kommun.endswith('s') or kommun.endswith('e') or kommun.endswith('ö'):\n",
    "        kommunstr = kommun+opt['utan_s']\n",
    "    else:\n",
    "        kommunstr = kommun+opt['med_s']\n",
    "\n",
    "else:\n",
    "    try:\n",
    "        from shapely.geometry import Polygon\n",
    "        with fiona.open(avgransning.value, 'r', encoding='utf-8') as boundingbox:\n",
    "            for k in boundingbox:\n",
    "                bounds = fiona.bounds(k)\n",
    "                bounds = tuple(map(lambda x: isinstance(x, float) and round(x, -1) or x, bounds))\n",
    "\n",
    "                min_x = bounds[0]\n",
    "                min_y = bounds[1]\n",
    "                max_x = bounds[2]\n",
    "                max_y = bounds[3]                \n",
    "                \n",
    "                bounds = (min_x, min_y, max_x, max_y)\n",
    "                \n",
    "                egen_yta = Polygon([(bounds[0], bounds[3]), (bounds[2], bounds[3]), (bounds[2], bounds[1]), (bounds[0], bounds[1])])\n",
    "                \n",
    "                with fiona.open('filer/vanern_mask.gpkg', 'r', encoding='utf-8')  as vanern_strand:\n",
    "                    for v in vanern_strand:\n",
    "                        vanern_bounds = fiona.bounds(v)\n",
    "                        vanern_box = Polygon([(vanern_bounds[0], vanern_bounds[3]), (vanern_bounds[2], vanern_bounds[3]), (\n",
    "                            vanern_bounds[2], vanern_bounds[1]), (vanern_bounds[0], vanern_bounds[1])])\n",
    "                \n",
    "                if (egen_yta.intersects(vanern_box)) is False:\n",
    "                    raise SystemExit('Filen du använder nuddar inte Vänern.')\n",
    "                \n",
    "                analysyta['Avgränsning'] = bounds\n",
    "\n",
    "                min_ll = metria_utils.omvandla(3006, 4236, bounds[0], bounds[1])[0:2]\n",
    "                max_ll = metria_utils.omvandla(3006, 4236, bounds[2], bounds[3])[0:2]\n",
    "\n",
    "                long = (min_ll[0], max_ll[0])\n",
    "                lat = (min_ll[1], max_ll[1])\n",
    "        kommunstr = 'Egen avgränsning'\n",
    "                          \n",
    "    except Exception:\n",
    "        raise SystemExit('Felaktig vektorfil definierad. Möjliga orsaker:\\n\\n-Filnamnet är inte korrekt skrivet.\\n-Filen innehåller fler än en polygon.\\n')\n",
    "\n",
    "m = {'Januari':1, 'Februari':2, 'Mars':3, 'April':4, 'Maj':5, \n",
    "     'Juni':6, 'Juli':7, 'Augusti':8, 'September':9, 'Oktober':10,\n",
    "     'November':11, 'December':12}\n",
    "\n",
    "m_r = {v: k for k, v in m.items()}\n",
    "\n",
    "if not manader.value:\n",
    "    \n",
    "    mrange = range(startdatum.value.month, slutdatum.value.month+1)\n",
    "    manad = 'Alla inom perioden'\n",
    "    \n",
    "    m_txt = []\n",
    "    for i in mrange:\n",
    "        m_txt.append(m_r[i])\n",
    "    \n",
    "else:\n",
    "    mtemp = []\n",
    "    for manad_ in manader.value:\n",
    "        mtemp.append(m[manad_])\n",
    "    m_txt = []\n",
    "    for i in mtemp:\n",
    "        m_txt.append(m_r[i])\n",
    "    manad = ', '.join(manader.value)\n",
    "\n",
    "kriterier = {\n",
    "        'x': (bounds[0], bounds[2]),\n",
    "        'y': (bounds[1], bounds[3]),\n",
    "        'crs': 'EPSG:3006',\n",
    "        \n",
    "        'output_crs': 'EPSG:3006',\n",
    "        'resolution': (-10, 10),\n",
    "        'time': (str(startdatum.value), str(slutdatum.value))\n",
    "            }\n",
    "\n",
    "print('\\nSammanfattning av val:\\n')\n",
    "print(f'Typ av analys: {analysval.value}\\nAnalysområde: {kommunstr}\\nPeriod: {str(startdatum.value)} till {str(slutdatum.value)}\\nMånader: {manad}\\nUpplösning: {pixel_size.value}\\n')\n",
    "\n",
    "display_map(latitude = lat, longitude = long)"
   ]
  },
  {
   "cell_type": "markdown",
   "metadata": {},
   "source": [
    "<br><b>Nedan hämtas satellitbilder från Rymddatalabbet, Om bilder hittats visas det första och sista datumet i tidsserien på skärm<br>Om inga bilder finns måste vi ändra våra sökkriterier</b><br><br>\n",
    "Efter sökningen läggs data från samtliga satelliter ihop i datumordning och endast de tre spektrala band som behövs sparas.<br>Observera att molniga bilder inte påverkar analysen när flera bilder ingår då endast vegetationstäckta pixlar blir kvar efter bearbetningsstegen."
   ]
  },
  {
   "cell_type": "code",
   "execution_count": null,
   "metadata": {},
   "outputs": [],
   "source": [
    "dc = datacube.Datacube()\n",
    "\n",
    "if pixel_size.value == '10 meter':\n",
    "    products = ['s2a_sen2cor_sweref99tm_10', 's2b_sen2cor_sweref99tm_10']\n",
    "    nir_band = 'nir_1'\n",
    "\n",
    "elif pixel_size.value == '20 meter':\n",
    "    products = ['s2a_sen2cor_sweref99tm_20', 's2b_sen2cor_sweref99tm_20']\n",
    "    nir_band = 'nir_2'\n",
    "    \n",
    "datasets = []\n",
    "for prod in products:\n",
    "    try:\n",
    "        def progress(processed, total):\n",
    "            print(f'\\rBearbetar {processed} av {total} bilder från {prod}', end='', flush=True)\n",
    "        dataset = dc.load(product=prod,\n",
    "                          group_by='solar_day',\n",
    "                          progress_cbk = progress,\n",
    "                          **kriterier)        \n",
    "        datasets.append(dataset)\n",
    "        del dataset\n",
    "    except ValueError:\n",
    "        pass\n",
    "\n",
    "print('\\nSammanställer tidsserie')\n",
    "satellitdata = xarray.concat(datasets, dim='time').sortby('time')\n",
    "satellitdata = satellitdata[['green', 'red', nir_band]]\n",
    "del datasets\n",
    "\n",
    "def reducera(dataset, manad):\n",
    "    return dataset.sel(time=(dataset['time.month']) == manad)\n",
    "\n",
    "if len(manader.value) in range(1, 12):\n",
    "    temp_lista = []\n",
    "    for m in mtemp:\n",
    "        temp_lista.append(reducera(satellitdata, m))\n",
    "    satellitdata = xarray.concat(temp_lista, dim='time').sortby('time')\n",
    "    del temp_lista\n",
    "else:\n",
    "    pass\n",
    "\n",
    "satellitdata = mask_invalid_data(satellitdata)\n",
    "\n",
    "print(f'\\nHittade {len(satellitdata.time)} bilder från vald period')\n",
    "if len(satellitdata.time) == 0:\n",
    "    print('Ändra datumintervallen ovan för att försöka igen')\n",
    "else:\n",
    "    if len(satellitdata.time) > 1:\n",
    "        satellitdata[[nir_band, 'red', 'green']].isel(\n",
    "            time = [0, -1]).to_array().plot.imshow(col = 'time', size = 5, robust = True)\n",
    "    else:\n",
    "        satellitdata[[nir_band, 'red', 'green']].isel(\n",
    "            time = [0]).to_array().plot.imshow(col = 'time', size = 5, robust = True) \n",
    "        print('Om bilden är molnig påverkar detta analysen, ändra kritierierna i din sökning för att hitta fler bilder.')"
   ]
  },
  {
   "cell_type": "markdown",
   "metadata": {},
   "source": [
    "<br><b>Om vi har hittat data kan vår valda analys genomföras nedan, resultatet visas på skärm.</b><br><br>\n",
    "Grafen som genereras sparas automatiskt under \"resultat\" som png-bild.<br>Notera att om samma analys görs om med samma område och datum kommer grafen skrivas över."
   ]
  },
  {
   "cell_type": "code",
   "execution_count": null,
   "metadata": {},
   "outputs": [],
   "source": [
    "numpy.seterr(invalid='ignore', divide='ignore')\n",
    "\n",
    "def normalize(array):\n",
    "    array_min, array_max = array.min(), array.max()\n",
    "    return ((array - array_min)/(array_max - array_min))\n",
    "\n",
    "def NDVI(nb, rb):\n",
    "    return (normalize(nb) - normalize(rb)) / (normalize(nb) + normalize(rb))\n",
    "\n",
    "def NDWI(gb, nb):\n",
    "    return (normalize(gb) - normalize(nb)) / (normalize(gb) + normalize(nb))\n",
    "\n",
    "colors = ['red', 'blue', 'purple', 'green', 'cyan', 'gold', \n",
    "          'darkred', 'orange', 'teal', 'olive', 'sienna', 'magenta']\n",
    "\n",
    "res = kriterier['resolution']\n",
    "start = str(satellitdata.time[0].values)[0:10]\n",
    "slut = str(satellitdata.time[-1].values)[0:10]\n",
    "\n",
    "greenband = satellitdata.green\n",
    "redband = satellitdata.red\n",
    "\n",
    "if pixel_size.value == '10 meter':\n",
    "    nirband = satellitdata.nir_1\n",
    "elif pixel_size.value == '20 meter':\n",
    "    nirband = satellitdata.nir_2\n",
    "\n",
    "ndvi = NDVI(nirband, redband)\n",
    "ndwi = NDWI(greenband, nirband)\n",
    "\n",
    "vm_lm, profile = metria_utils.raster_subset('filer/vanern_mask.tif', bounds, res)\n",
    "vm_ndwi = ndwi.max(dim='time').values\n",
    "\n",
    "ndvi_threshold = 0.5\n",
    "ndwi_threshold = 0.2\n",
    "\n",
    "#Vald analys genomförs och resultat visualiseras på skärm:\n",
    "if analysval.value == metoder[0]:\n",
    "    \n",
    "    prefix = 'Maximal_utbredning_av_vattenvegetation_'\n",
    "    suffix = ''\n",
    "    \n",
    "    maximum = ndvi.max(dim='time').values\n",
    "    maximum, resultat = metria_utils.index_max(maximum, vm_lm, vm_ndwi, ndvi_threshold, ndwi_threshold)\n",
    "    \n",
    "    fig = plt.figure(figsize=(12,12))\n",
    "    fig.suptitle(f'Maximal utbredning av vattenvegetation inom {kommunstr} från {start} till {slut}', fontsize=16)\n",
    "    plt.imshow(vm_lm, cmap='Blues', alpha=0.3)\n",
    "    plt.imshow(maximum, cmap='RdYlGn')\n",
    "    plt.savefig(f'resultat/Maximal utbredning av vattenvegetation inom {kommunstr} från {start} till {slut}.png'.replace(' ', '_'))\n",
    "    \n",
    "elif analysval.value == metoder[1]:\n",
    "        \n",
    "    prefix = 'Maximal_utbredning_av_vattenvegetation_per_månad_'\n",
    "    suffix = ''    \n",
    "\n",
    "    vmax = ndvi.max(dim='time').values\n",
    "    vmax, resultat = metria_utils.index_max(vmax, vm_lm, vm_ndwi, ndvi_threshold, ndwi_threshold)\n",
    "    \n",
    "    ndvi_m = ndvi.groupby('time.month').max()\n",
    "    ndwi_m = ndwi.groupby('time.month').max()\n",
    "    \n",
    "    vis_array = []\n",
    "    vveg_array = []\n",
    "    \n",
    "    for m in ndvi_m:\n",
    "        maximum, resultat = metria_utils.index_max(m.values, vm_lm, vm_ndwi, ndvi_threshold, ndwi_threshold)\n",
    "        vis_array.append(maximum)\n",
    "        vveg_array.append(resultat)\n",
    "    \n",
    "    vals = []\n",
    "    for x in vveg_array:\n",
    "        try:\n",
    "            unique, counts = numpy.unique(x, return_counts=True)\n",
    "            values = counts[1:]/10000\n",
    "            vals.append(float(values))\n",
    "        except TypeError:\n",
    "            vals.append(numpy.asarray([0], dtype='float64'))\n",
    "        \n",
    "    fig = plt.figure(figsize=(20,10))\n",
    "    ax0 = fig.add_subplot(121)\n",
    "    ax1 = fig.add_subplot(122)\n",
    "    fig.suptitle(f'Maximal utbredning av vattenvegetation per månad inom {kommunstr} från {start} till {slut}', fontsize=16, y=1.05)\n",
    "    ax0.imshow(vm_lm, cmap='Blues', alpha=0.3)\n",
    "    ax0.imshow(vmax, cmap=matplotlib.colors.ListedColormap(colors))\n",
    "    ax1.plot(vals, color='red', marker='o')\n",
    "    ax1.set(ylim=(min(vals)-2, max(vals)+2))\n",
    "    for v, i in enumerate(m_txt):\n",
    "        ax1.text(v, vals[v]+.1, i+f'\\n{vals[v]} ha', color='black', ha='center', fontweight='bold', fontsize=12) \n",
    "    plt.tight_layout()\n",
    "    plt.savefig(f'resultat/Maximal utbredning av vattenvegetation per månad inom {kommunstr} från {start} till {slut}.png'.replace(' ', '_'))\n",
    "\n",
    "elif analysval.value == metoder[2] or analysval.value == metoder[3]:\n",
    "    \n",
    "    prefix = 'Jämförelse_av_vattenvegetation_'\n",
    "    ar = analysval.value[-9:]\n",
    "    suffix = f'_mot_{ar}'\n",
    "    \n",
    "    old_vveg, profile = metria_utils.raster_subset(f'filer/vattenveg_{ar[2:4]}_{ar[7:]}_metria.tif', bounds, res) \n",
    "    resultat = metria_utils.jamforelse(ndvi, old_vveg, vm_lm, vm_ndwi, ndvi_threshold, ndwi_threshold)\n",
    "    vis = numpy.copy(resultat)\n",
    "    vis[vis == 0] = numpy.nan\n",
    "\n",
    "    fig = plt.figure(figsize=(20,10))\n",
    "    ax0 = fig.add_subplot(121)\n",
    "    ax1 = fig.add_subplot(122)\n",
    "    \n",
    "    plt.suptitle(f'Skillnader i utbredning av vattenvegetation inom {kommunstr} från {start} till {slut} mot {ar}', fontsize=16, y=1.08)\n",
    "    ax0.imshow(vm_lm, cmap='Blues', alpha=0.3)\n",
    "    ax0.imshow(vis, cmap=matplotlib.colors.ListedColormap(colors))\n",
    "    \n",
    "    unique, counts = numpy.unique(resultat, return_counts=True)\n",
    "    classes = (f'Klass 1: Vattenvegetation \\nendast {ar}', \n",
    "               'Klass 2: Vattenvegetation \\nendast mellan valda datum', 'Klass 3: Vattenvegetation \\ni båda datamängder')\n",
    "    values = tuple(counts[1:]/10000)\n",
    "\n",
    "    ax1.bar(classes, values, align='center', alpha=0.75, width=0.5, color=colors)\n",
    "    for v, i in enumerate(values):\n",
    "        ax1.text(v-0.075, i+0.05, str(round(i, 2))+' ha', color='black',  fontweight='bold', fontsize=12)\n",
    "        \n",
    "    plt.tight_layout()\n",
    "    plt.savefig(f'resultat/Skillnader i utbredning av vattenvegetation inom {kommunstr} från {start} till {slut} mot {ar}.png'.replace(' ', '_'))\n",
    "     \n",
    "print('Figuren är sparad under \"resultat/\"')"
   ]
  },
  {
   "cell_type": "markdown",
   "metadata": {},
   "source": [
    "<br><b>När vi är nöjda med analysen kan vi spara resultatet (hamnar i foldern \"resultat\" till vänster) efter att cellen nedan körts:</b>"
   ]
  },
  {
   "cell_type": "code",
   "execution_count": null,
   "metadata": {},
   "outputs": [],
   "source": [
    "filnamn = ipywidgets.Text(\n",
    "    value=prefix+f'{kommunstr}_{start}_{slut}{suffix}'.replace(' ', '_'),\n",
    "    layout=Layout(width='70%'),\n",
    "    description='Filnamn: ',\n",
    "    disabled=False\n",
    ")\n",
    "\n",
    "display(filnamn)\n",
    "print('\\n')\n",
    "\n",
    "knapp = ipywidgets.Button(\n",
    "    description='Klicka här för att spara resultatet som en rasterfil',\n",
    "    layout=Layout(width='40%'),\n",
    "    button_style='',\n",
    "    tooltip='Klicka här för att spara resultatet som en rasterfil',\n",
    "    icon='check')\n",
    "out = ipywidgets.Output()\n",
    "\n",
    "def knapp_click(_):\n",
    "    if not analysval.value == metoder[1]:\n",
    "        with out:\n",
    "            with rasterio.open(f'resultat/{filnamn.value}.tif', 'w', **profile) as dst:\n",
    "                dst.write(resultat.astype(rasterio.uint8), 1)\n",
    "                if analysval.value == metoder[2] or analysval.value == metoder[3]:\n",
    "                    dst.write_colormap(\n",
    "                        1, {0: (0, 0, 0, 255),\n",
    "                        1: (255, 0, 0, 255),\n",
    "                        2: (0, 0, 255, 255),\n",
    "                        3: (150, 0, 255, 255)})\n",
    "                else:\n",
    "                    dst.write_colormap(\n",
    "                    1, {0: (0, 0, 0, 255),\n",
    "                        1: (255, 0, 0, 255)})\n",
    "                print(f'Din fil är sparad under \"resultat/\"')\n",
    "    else:\n",
    "        with out:          \n",
    "            for i in range(0, len(vveg_array)):\n",
    "                with rasterio.open(f'resultat/{filnamn.value}_{m_txt[i]}.tif', 'w', **profile) as dst:\n",
    "                    dst.write(vveg_array[i].astype(rasterio.uint8), 1)\n",
    "            print(f'Dina filer är sparade under \"resultat/\", varje månad som separat fil.')\n",
    "\n",
    "knapp.on_click(knapp_click)\n",
    "ipywidgets.VBox([knapp,out])"
   ]
  }
 ],
 "metadata": {
  "kernelspec": {
   "display_name": "Python 3",
   "language": "python",
   "name": "python3"
  },
  "language_info": {
   "codemirror_mode": {
    "name": "ipython",
    "version": 3
   },
   "file_extension": ".py",
   "mimetype": "text/x-python",
   "name": "python",
   "nbconvert_exporter": "python",
   "pygments_lexer": "ipython3",
   "version": "3.6.7"
  }
 },
 "nbformat": 4,
 "nbformat_minor": 4
}
